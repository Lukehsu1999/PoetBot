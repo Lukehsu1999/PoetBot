{
  "nbformat": 4,
  "nbformat_minor": 0,
  "metadata": {
    "colab": {
      "name": "Classify Poems.ipynb",
      "provenance": [],
      "mount_file_id": "10Y748Lx9Goi8-ewGfyP1CbNfD37Gv5gx",
      "authorship_tag": "ABX9TyM/i7OV4g4YGnHIBQ5C2nl9",
      "include_colab_link": true
    },
    "kernelspec": {
      "name": "python3",
      "display_name": "Python 3"
    },
    "widgets": {
      "application/vnd.jupyter.widget-state+json": {
        "2cbabdd34d9a4875b700b5326d3f5a4e": {
          "model_module": "@jupyter-widgets/controls",
          "model_name": "HBoxModel",
          "state": {
            "_view_name": "HBoxView",
            "_dom_classes": [],
            "_model_name": "HBoxModel",
            "_view_module": "@jupyter-widgets/controls",
            "_model_module_version": "1.5.0",
            "_view_count": null,
            "_view_module_version": "1.5.0",
            "box_style": "",
            "layout": "IPY_MODEL_3a8f197ad5f34f0d9c8f1ffaec38315e",
            "_model_module": "@jupyter-widgets/controls",
            "children": [
              "IPY_MODEL_c81776641e6c4dd68ba6cc128535e6e9",
              "IPY_MODEL_5338cb28b7f340ccb7921b9bf9c9035b"
            ]
          }
        },
        "3a8f197ad5f34f0d9c8f1ffaec38315e": {
          "model_module": "@jupyter-widgets/base",
          "model_name": "LayoutModel",
          "state": {
            "_view_name": "LayoutView",
            "grid_template_rows": null,
            "right": null,
            "justify_content": null,
            "_view_module": "@jupyter-widgets/base",
            "overflow": null,
            "_model_module_version": "1.2.0",
            "_view_count": null,
            "flex_flow": null,
            "width": null,
            "min_width": null,
            "border": null,
            "align_items": null,
            "bottom": null,
            "_model_module": "@jupyter-widgets/base",
            "top": null,
            "grid_column": null,
            "overflow_y": null,
            "overflow_x": null,
            "grid_auto_flow": null,
            "grid_area": null,
            "grid_template_columns": null,
            "flex": null,
            "_model_name": "LayoutModel",
            "justify_items": null,
            "grid_row": null,
            "max_height": null,
            "align_content": null,
            "visibility": null,
            "align_self": null,
            "height": null,
            "min_height": null,
            "padding": null,
            "grid_auto_rows": null,
            "grid_gap": null,
            "max_width": null,
            "order": null,
            "_view_module_version": "1.2.0",
            "grid_template_areas": null,
            "object_position": null,
            "object_fit": null,
            "grid_auto_columns": null,
            "margin": null,
            "display": null,
            "left": null
          }
        },
        "c81776641e6c4dd68ba6cc128535e6e9": {
          "model_module": "@jupyter-widgets/controls",
          "model_name": "FloatProgressModel",
          "state": {
            "_view_name": "ProgressView",
            "style": "IPY_MODEL_9f81030bc5fb4eda8d9e3e9e10c35ff3",
            "_dom_classes": [],
            "description": "Downloading: 100%",
            "_model_name": "FloatProgressModel",
            "bar_style": "success",
            "max": 231508,
            "_view_module": "@jupyter-widgets/controls",
            "_model_module_version": "1.5.0",
            "value": 231508,
            "_view_count": null,
            "_view_module_version": "1.5.0",
            "orientation": "horizontal",
            "min": 0,
            "description_tooltip": null,
            "_model_module": "@jupyter-widgets/controls",
            "layout": "IPY_MODEL_02b42704f6064d76a06d782b3140c0bd"
          }
        },
        "5338cb28b7f340ccb7921b9bf9c9035b": {
          "model_module": "@jupyter-widgets/controls",
          "model_name": "HTMLModel",
          "state": {
            "_view_name": "HTMLView",
            "style": "IPY_MODEL_fd6dd4dcf8114cc99ee1f746071dfff1",
            "_dom_classes": [],
            "description": "",
            "_model_name": "HTMLModel",
            "placeholder": "​",
            "_view_module": "@jupyter-widgets/controls",
            "_model_module_version": "1.5.0",
            "value": " 232k/232k [00:00&lt;00:00, 302kB/s]",
            "_view_count": null,
            "_view_module_version": "1.5.0",
            "description_tooltip": null,
            "_model_module": "@jupyter-widgets/controls",
            "layout": "IPY_MODEL_2ce0fcee9e5a4ddc869928c997731e0c"
          }
        },
        "9f81030bc5fb4eda8d9e3e9e10c35ff3": {
          "model_module": "@jupyter-widgets/controls",
          "model_name": "ProgressStyleModel",
          "state": {
            "_view_name": "StyleView",
            "_model_name": "ProgressStyleModel",
            "description_width": "initial",
            "_view_module": "@jupyter-widgets/base",
            "_model_module_version": "1.5.0",
            "_view_count": null,
            "_view_module_version": "1.2.0",
            "bar_color": null,
            "_model_module": "@jupyter-widgets/controls"
          }
        },
        "02b42704f6064d76a06d782b3140c0bd": {
          "model_module": "@jupyter-widgets/base",
          "model_name": "LayoutModel",
          "state": {
            "_view_name": "LayoutView",
            "grid_template_rows": null,
            "right": null,
            "justify_content": null,
            "_view_module": "@jupyter-widgets/base",
            "overflow": null,
            "_model_module_version": "1.2.0",
            "_view_count": null,
            "flex_flow": null,
            "width": null,
            "min_width": null,
            "border": null,
            "align_items": null,
            "bottom": null,
            "_model_module": "@jupyter-widgets/base",
            "top": null,
            "grid_column": null,
            "overflow_y": null,
            "overflow_x": null,
            "grid_auto_flow": null,
            "grid_area": null,
            "grid_template_columns": null,
            "flex": null,
            "_model_name": "LayoutModel",
            "justify_items": null,
            "grid_row": null,
            "max_height": null,
            "align_content": null,
            "visibility": null,
            "align_self": null,
            "height": null,
            "min_height": null,
            "padding": null,
            "grid_auto_rows": null,
            "grid_gap": null,
            "max_width": null,
            "order": null,
            "_view_module_version": "1.2.0",
            "grid_template_areas": null,
            "object_position": null,
            "object_fit": null,
            "grid_auto_columns": null,
            "margin": null,
            "display": null,
            "left": null
          }
        },
        "fd6dd4dcf8114cc99ee1f746071dfff1": {
          "model_module": "@jupyter-widgets/controls",
          "model_name": "DescriptionStyleModel",
          "state": {
            "_view_name": "StyleView",
            "_model_name": "DescriptionStyleModel",
            "description_width": "",
            "_view_module": "@jupyter-widgets/base",
            "_model_module_version": "1.5.0",
            "_view_count": null,
            "_view_module_version": "1.2.0",
            "_model_module": "@jupyter-widgets/controls"
          }
        },
        "2ce0fcee9e5a4ddc869928c997731e0c": {
          "model_module": "@jupyter-widgets/base",
          "model_name": "LayoutModel",
          "state": {
            "_view_name": "LayoutView",
            "grid_template_rows": null,
            "right": null,
            "justify_content": null,
            "_view_module": "@jupyter-widgets/base",
            "overflow": null,
            "_model_module_version": "1.2.0",
            "_view_count": null,
            "flex_flow": null,
            "width": null,
            "min_width": null,
            "border": null,
            "align_items": null,
            "bottom": null,
            "_model_module": "@jupyter-widgets/base",
            "top": null,
            "grid_column": null,
            "overflow_y": null,
            "overflow_x": null,
            "grid_auto_flow": null,
            "grid_area": null,
            "grid_template_columns": null,
            "flex": null,
            "_model_name": "LayoutModel",
            "justify_items": null,
            "grid_row": null,
            "max_height": null,
            "align_content": null,
            "visibility": null,
            "align_self": null,
            "height": null,
            "min_height": null,
            "padding": null,
            "grid_auto_rows": null,
            "grid_gap": null,
            "max_width": null,
            "order": null,
            "_view_module_version": "1.2.0",
            "grid_template_areas": null,
            "object_position": null,
            "object_fit": null,
            "grid_auto_columns": null,
            "margin": null,
            "display": null,
            "left": null
          }
        }
      }
    }
  },
  "cells": [
    {
      "cell_type": "markdown",
      "metadata": {
        "id": "view-in-github",
        "colab_type": "text"
      },
      "source": [
        "<a href=\"https://colab.research.google.com/github/Lukehsu1999/PoetBot/blob/main/Classify_Poems.ipynb\" target=\"_parent\"><img src=\"https://colab.research.google.com/assets/colab-badge.svg\" alt=\"Open In Colab\"/></a>"
      ]
    },
    {
      "cell_type": "markdown",
      "metadata": {
        "id": "sNzBhDcy8st9"
      },
      "source": [
        "<h1>Import pretrained emotionClassifier </h1> "
      ]
    },
    {
      "cell_type": "markdown",
      "metadata": {
        "id": "6wPbP18lBkGb"
      },
      "source": [
        "Distribution of data based on labels:  <br>\n",
        "\n",
        "joy    6761 <br>\n",
        "sadness    5797 <br>\n",
        "anger    2709 <br>\n",
        "fear    2373 <br>\n",
        "love    1641 <br>\n",
        "surprise     719 <br>"
      ]
    },
    {
      "cell_type": "code",
      "metadata": {
        "colab": {
          "base_uri": "https://localhost:8080/"
        },
        "id": "2dEKx9Kt7GC7",
        "outputId": "9aa87cd2-007d-4d06-eff1-d31a6111f4d6"
      },
      "source": [
        "!pip install transformers"
      ],
      "execution_count": 1,
      "outputs": [
        {
          "output_type": "stream",
          "text": [
            "Collecting transformers\n",
            "\u001b[?25l  Downloading https://files.pythonhosted.org/packages/99/84/7bc03215279f603125d844bf81c3fb3f2d50fe8e511546eb4897e4be2067/transformers-4.0.0-py3-none-any.whl (1.4MB)\n",
            "\u001b[K     |████████████████████████████████| 1.4MB 6.0MB/s \n",
            "\u001b[?25hRequirement already satisfied: regex!=2019.12.17 in /usr/local/lib/python3.6/dist-packages (from transformers) (2019.12.20)\n",
            "Requirement already satisfied: requests in /usr/local/lib/python3.6/dist-packages (from transformers) (2.23.0)\n",
            "Collecting sacremoses\n",
            "\u001b[?25l  Downloading https://files.pythonhosted.org/packages/7d/34/09d19aff26edcc8eb2a01bed8e98f13a1537005d31e95233fd48216eed10/sacremoses-0.0.43.tar.gz (883kB)\n",
            "\u001b[K     |████████████████████████████████| 890kB 40.0MB/s \n",
            "\u001b[?25hRequirement already satisfied: packaging in /usr/local/lib/python3.6/dist-packages (from transformers) (20.4)\n",
            "Requirement already satisfied: tqdm>=4.27 in /usr/local/lib/python3.6/dist-packages (from transformers) (4.41.1)\n",
            "Requirement already satisfied: numpy in /usr/local/lib/python3.6/dist-packages (from transformers) (1.18.5)\n",
            "Requirement already satisfied: dataclasses; python_version < \"3.7\" in /usr/local/lib/python3.6/dist-packages (from transformers) (0.8)\n",
            "Collecting tokenizers==0.9.4\n",
            "\u001b[?25l  Downloading https://files.pythonhosted.org/packages/0f/1c/e789a8b12e28be5bc1ce2156cf87cb522b379be9cadc7ad8091a4cc107c4/tokenizers-0.9.4-cp36-cp36m-manylinux2010_x86_64.whl (2.9MB)\n",
            "\u001b[K     |████████████████████████████████| 2.9MB 35.7MB/s \n",
            "\u001b[?25hRequirement already satisfied: filelock in /usr/local/lib/python3.6/dist-packages (from transformers) (3.0.12)\n",
            "Requirement already satisfied: certifi>=2017.4.17 in /usr/local/lib/python3.6/dist-packages (from requests->transformers) (2020.11.8)\n",
            "Requirement already satisfied: idna<3,>=2.5 in /usr/local/lib/python3.6/dist-packages (from requests->transformers) (2.10)\n",
            "Requirement already satisfied: chardet<4,>=3.0.2 in /usr/local/lib/python3.6/dist-packages (from requests->transformers) (3.0.4)\n",
            "Requirement already satisfied: urllib3!=1.25.0,!=1.25.1,<1.26,>=1.21.1 in /usr/local/lib/python3.6/dist-packages (from requests->transformers) (1.24.3)\n",
            "Requirement already satisfied: six in /usr/local/lib/python3.6/dist-packages (from sacremoses->transformers) (1.15.0)\n",
            "Requirement already satisfied: click in /usr/local/lib/python3.6/dist-packages (from sacremoses->transformers) (7.1.2)\n",
            "Requirement already satisfied: joblib in /usr/local/lib/python3.6/dist-packages (from sacremoses->transformers) (0.17.0)\n",
            "Requirement already satisfied: pyparsing>=2.0.2 in /usr/local/lib/python3.6/dist-packages (from packaging->transformers) (2.4.7)\n",
            "Building wheels for collected packages: sacremoses\n",
            "  Building wheel for sacremoses (setup.py) ... \u001b[?25l\u001b[?25hdone\n",
            "  Created wheel for sacremoses: filename=sacremoses-0.0.43-cp36-none-any.whl size=893257 sha256=d17e2cc0d7ee2e9c1e109c00baf12cbb2b062e2e2e886fb225ba42049711ce77\n",
            "  Stored in directory: /root/.cache/pip/wheels/29/3c/fd/7ce5c3f0666dab31a50123635e6fb5e19ceb42ce38d4e58f45\n",
            "Successfully built sacremoses\n",
            "Installing collected packages: sacremoses, tokenizers, transformers\n",
            "Successfully installed sacremoses-0.0.43 tokenizers-0.9.4 transformers-4.0.0\n"
          ],
          "name": "stdout"
        }
      ]
    },
    {
      "cell_type": "code",
      "metadata": {
        "id": "Q2r_WcJ361WJ"
      },
      "source": [
        "import tensorflow as tf\n",
        "import torch\n",
        "from transformers import BertTokenizer, BertForSequenceClassification\n",
        "\n",
        "emotionClassifier=BertForSequenceClassification.from_pretrained(\"/content/drive/MyDrive/EmotionNLP/pretrainedModel\", return_dict=True)\n"
      ],
      "execution_count": 2,
      "outputs": []
    },
    {
      "cell_type": "code",
      "metadata": {
        "id": "6myi57R68liF"
      },
      "source": [
        "def classify_emotion(sentence):\n",
        "\n",
        "  tokenizer = BertTokenizer.from_pretrained('bert-base-uncased',do_lower_case=True)\n",
        "  input = tokenizer(sentence, return_tensors=\"pt\")\n",
        "  emotionClassifier.eval()\n",
        "  labels=torch.tensor([1]).unsqueeze(0)\n",
        "\n",
        "  outputs = emotionClassifier(**input,labels=labels)\n",
        "  loss = outputs.loss\n",
        "  logits = outputs.logits\n",
        "  logits=logits.detach().numpy()\n",
        "  probs = tf.nn.softmax(logits)\n",
        "  prediction = tf.math.argmax(probs, axis=1)\n",
        "\n",
        "  # 0:\"anger\", 1:\"fear\", 2:\"joy\", 3:\"love\", 4:\"sadness\", 5:\"surprise\",\n",
        "  prediction=tf.constant(prediction)\n",
        "\n",
        "  #print(probs)\n",
        "  probs=tf.constant(probs)\n",
        "  prob_prediction=probs.numpy()[0][prediction]\n",
        "  prob_prediction=tf.constant(prob_prediction)\n",
        "  #print(prediction)\n",
        "  #print(prob_prediction)\n",
        "\n",
        "  #print(\"prediction: \"+str(prediction.numpy()[0]) +\" with probability(certainty): \"+str(prob_prediction.numpy()))\n",
        "  \n",
        "  #if probability(certainty) is bigger than 80%\n",
        "  if prob_prediction>0.8:\n",
        "    return prediction.numpy()[0]\n",
        "  else:\n",
        "    return -1\n"
      ],
      "execution_count": 3,
      "outputs": []
    },
    {
      "cell_type": "code",
      "metadata": {
        "colab": {
          "base_uri": "https://localhost:8080/",
          "height": 121,
          "referenced_widgets": [
            "2cbabdd34d9a4875b700b5326d3f5a4e",
            "3a8f197ad5f34f0d9c8f1ffaec38315e",
            "c81776641e6c4dd68ba6cc128535e6e9",
            "5338cb28b7f340ccb7921b9bf9c9035b",
            "9f81030bc5fb4eda8d9e3e9e10c35ff3",
            "02b42704f6064d76a06d782b3140c0bd",
            "fd6dd4dcf8114cc99ee1f746071dfff1",
            "2ce0fcee9e5a4ddc869928c997731e0c"
          ]
        },
        "id": "k2CO0-p17WzL",
        "outputId": "4ec9bfa0-85de-4061-a5c3-f4857a426a40"
      },
      "source": [
        "testsent=\"I am sad\"\n",
        "print(str(classify_emotion(testsent)))"
      ],
      "execution_count": 4,
      "outputs": [
        {
          "output_type": "display_data",
          "data": {
            "application/vnd.jupyter.widget-view+json": {
              "model_id": "2cbabdd34d9a4875b700b5326d3f5a4e",
              "version_minor": 0,
              "version_major": 2
            },
            "text/plain": [
              "HBox(children=(FloatProgress(value=0.0, description='Downloading', max=231508.0, style=ProgressStyle(descripti…"
            ]
          },
          "metadata": {
            "tags": []
          }
        },
        {
          "output_type": "stream",
          "text": [
            "\n",
            "4\n"
          ],
          "name": "stdout"
        },
        {
          "output_type": "stream",
          "text": [
            "/usr/local/lib/python3.6/dist-packages/ipykernel_launcher.py:20: FutureWarning: Using a non-tuple sequence for multidimensional indexing is deprecated; use `arr[tuple(seq)]` instead of `arr[seq]`. In the future this will be interpreted as an array index, `arr[np.array(seq)]`, which will result either in an error or a different result.\n"
          ],
          "name": "stderr"
        }
      ]
    },
    {
      "cell_type": "code",
      "metadata": {
        "id": "TURcYoNlAQM7"
      },
      "source": [
        "index2emotion={\n",
        "    0:\"anger\", 1:\"fear\", 2:\"joy\", 3:\"love\", 4:\"sadness\", 5:\"surprise\"\n",
        "}"
      ],
      "execution_count": 5,
      "outputs": []
    },
    {
      "cell_type": "markdown",
      "metadata": {
        "id": "b8rAUnZ-81Pd"
      },
      "source": [
        "<h1>Get the Poetry dataset</h1>"
      ]
    },
    {
      "cell_type": "code",
      "metadata": {
        "id": "_Hv5ZR5n-TQP"
      },
      "source": [
        "import numpy as np # linear algebra\n",
        "import pandas as pd # data processing, CSV file I/O (e.g. pd.read_csv)\n",
        "from scipy import spatial\n",
        "from collections import Counter\n",
        "\n",
        "import keras.backend as K\n",
        "from keras.models import Model\n",
        "from keras.optimizers import Adam, SGD\n",
        "from keras.preprocessing.text import Tokenizer\n",
        "from keras.preprocessing.sequence import pad_sequences\n",
        "from keras.layers import Dense, Embedding, Input, LSTM, GRU\n",
        "\n",
        "import matplotlib.pyplot as plt"
      ],
      "execution_count": 6,
      "outputs": []
    },
    {
      "cell_type": "code",
      "metadata": {
        "id": "OaQnGSmu-xvX"
      },
      "source": [
        "poems_df = pd.read_csv(\"/content/drive/MyDrive/PoemDataset/kaggle_poem_dataset.csv\")"
      ],
      "execution_count": 7,
      "outputs": []
    },
    {
      "cell_type": "code",
      "metadata": {
        "colab": {
          "base_uri": "https://localhost:8080/"
        },
        "id": "wwrH8HMmSxin",
        "outputId": "513ca098-e795-44ca-96dc-1dee1b755d9e"
      },
      "source": [
        "len(poems_df)"
      ],
      "execution_count": 8,
      "outputs": [
        {
          "output_type": "execute_result",
          "data": {
            "text/plain": [
              "15652"
            ]
          },
          "metadata": {
            "tags": []
          },
          "execution_count": 8
        }
      ]
    },
    {
      "cell_type": "markdown",
      "metadata": {
        "id": "zph4cntJWBJg"
      },
      "source": [
        "<h1> Classify the poems by Emotion <h1>"
      ]
    },
    {
      "cell_type": "code",
      "metadata": {
        "colab": {
          "base_uri": "https://localhost:8080/"
        },
        "id": "DoggySJ-_NSJ",
        "outputId": "5d22d06b-0567-40b5-9a1a-37b766413bd4"
      },
      "source": [
        "anger_set=[]\n",
        "fear_set=[]\n",
        "joy_set=[]\n",
        "love_set=[]\n",
        "sadness_set=[]\n",
        "surprise_set=[]\n",
        "\n",
        "for i in range(0,1000):\n",
        "  #print(i)\n",
        "  #print(poems_df.iloc[i][\"Author\"])\n",
        "  #print(poems_df.iloc[i][\"Title\"])\n",
        "  #print(poems_df.iloc[i][\"Content\"])\n",
        "  content=poems_df.iloc[i][\"Content\"]\n",
        "\n",
        "  #Bert has max length 512\n",
        "  if len(content)>512:\n",
        "    content=content[0:512]\n",
        "\n",
        "  emotion_idx=classify_emotion(content)\n",
        "  if emotion_idx==0:\n",
        "    anger_set.append(poems_df.iloc[i])\n",
        "  elif emotion_idx==1:\n",
        "    fear_set.append(poems_df.iloc[i])\n",
        "  elif emotion_idx==2:\n",
        "    joy_set.append(poems_df.iloc[i])\n",
        "  elif emotion_idx==3:\n",
        "    love_set.append(poems_df.iloc[i])\n",
        "  elif emotion_idx==4:\n",
        "    sadness_set.append(poems_df.iloc[i])\n",
        "  elif emotion_idx==5:\n",
        "    surprise_set.append(poems_df.iloc[i])\n",
        "  #if emotion_idx=-1 -> the certainty of the result is lower than 80%\n",
        "\n",
        "\n",
        "  #print(\"Classification Result: \"+str(classify_emotion(content)))\n",
        "  #print(\"##################################\")"
      ],
      "execution_count": null,
      "outputs": [
        {
          "output_type": "stream",
          "text": [
            "/usr/local/lib/python3.6/dist-packages/ipykernel_launcher.py:20: FutureWarning: Using a non-tuple sequence for multidimensional indexing is deprecated; use `arr[tuple(seq)]` instead of `arr[seq]`. In the future this will be interpreted as an array index, `arr[np.array(seq)]`, which will result either in an error or a different result.\n"
          ],
          "name": "stderr"
        }
      ]
    },
    {
      "cell_type": "code",
      "metadata": {
        "id": "VWVIpKiSQwtX"
      },
      "source": [
        "print(str(len(anger_set))+\";\"+str(len(fear_set))+\";\"+str(len(joy_set))+\";\"+str(len(love_set))+\";\"+str(len(sadness_set))+\";\"+str(len(surprise_set))+\";\")\n"
      ],
      "execution_count": null,
      "outputs": []
    },
    {
      "cell_type": "code",
      "metadata": {
        "id": "Iyj7D50RS25O"
      },
      "source": [
        "def printpoemset(poemset):\n",
        "  for poem in poemset:\n",
        "    print(\"Author: \"+poem[\"Author\"])\n",
        "    print(\"Title: \"+poem[\"Title\"])\n",
        "    print(poem[\"Content\"])\n",
        "    print()"
      ],
      "execution_count": null,
      "outputs": []
    },
    {
      "cell_type": "markdown",
      "metadata": {
        "id": "LzgHURjmxrvX"
      },
      "source": [
        "<h1>saving results </h1>"
      ]
    },
    {
      "cell_type": "markdown",
      "metadata": {
        "id": "OeyhAaYuxy9G"
      },
      "source": [
        "txt approach"
      ]
    },
    {
      "cell_type": "markdown",
      "metadata": {
        "id": "DPYshwcAx0qm"
      },
      "source": [
        "csv approach"
      ]
    },
    {
      "cell_type": "code",
      "metadata": {
        "id": "u6vmqhip1c1A"
      },
      "source": [
        "import csv\n",
        "\n",
        "def save_result_csv(path,poemset):\n",
        "  with open(path,'w',newline='') as csvfile:\n",
        "    fieldnames=['Id','Author','Title','Content']\n",
        "    writer = csv.DictWriter(csvfile, fieldnames=fieldnames)\n",
        "    writer.writeheader()\n",
        "    cnt=0\n",
        "    for poem in poemset:\n",
        "      cnt=cnt+1\n",
        "      writer.writerow({\"Id\":cnt,\"Author\":poem[\"Author\"],\"Title\":poem[\"Title\"],\"Content\":poem[\"Content\"]})"
      ],
      "execution_count": null,
      "outputs": []
    },
    {
      "cell_type": "code",
      "metadata": {
        "id": "TrzJ5ZBL2R-t"
      },
      "source": [
        "save_result_csv(\"/content/drive/MyDrive/EmotionPoem/joy_poems.csv\",joy_set)\n",
        "save_result_csv(\"/content/drive/MyDrive/EmotionPoem/sadness_poems.csv\",sadness_set)\n",
        "save_result_csv(\"/content/drive/MyDrive/EmotionPoem/anger_poems.csv\",anger_set)\n",
        "save_result_csv(\"/content/drive/MyDrive/EmotionPoem/fear_poems.csv\",fear_set)\n",
        "save_result_csv(\"/content/drive/MyDrive/EmotionPoem/love_poems.csv\",love_set)\n",
        "save_result_csv(\"/content/drive/MyDrive/EmotionPoem/surprise_poems.csv\",surprise_set)"
      ],
      "execution_count": null,
      "outputs": []
    }
  ]
}